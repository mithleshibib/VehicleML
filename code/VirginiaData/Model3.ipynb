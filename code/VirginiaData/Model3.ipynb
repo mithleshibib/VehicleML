{
 "cells": [
  {
   "cell_type": "code",
   "execution_count": 1,
   "id": "incorporate-twins",
   "metadata": {},
   "outputs": [],
   "source": [
    "import turicreate as tc\n",
    "import os"
   ]
  },
  {
   "cell_type": "code",
   "execution_count": 2,
   "id": "demonstrated-confidence",
   "metadata": {
    "scrolled": true
   },
   "outputs": [
    {
     "data": {
      "text/html": [
       "<pre>Finished parsing file /home/ubuntu/VehicleML/code/VirginiaData/crash1.csv</pre>"
      ],
      "text/plain": [
       "Finished parsing file /home/ubuntu/VehicleML/code/VirginiaData/crash1.csv"
      ]
     },
     "metadata": {},
     "output_type": "display_data"
    },
    {
     "data": {
      "text/html": [
       "<pre>Parsing completed. Parsed 28963 lines in 0.707194 secs.</pre>"
      ],
      "text/plain": [
       "Parsing completed. Parsed 28963 lines in 0.707194 secs."
      ]
     },
     "metadata": {},
     "output_type": "display_data"
    },
    {
     "data": {
      "text/html": [
       "<pre>Read 200870 lines. Lines per second: 25914.5</pre>"
      ],
      "text/plain": [
       "Read 200870 lines. Lines per second: 25914.5"
      ]
     },
     "metadata": {},
     "output_type": "display_data"
    },
    {
     "data": {
      "text/html": [
       "<pre>Finished parsing file /home/ubuntu/VehicleML/code/VirginiaData/nearcrash1.csv</pre>"
      ],
      "text/plain": [
       "Finished parsing file /home/ubuntu/VehicleML/code/VirginiaData/nearcrash1.csv"
      ]
     },
     "metadata": {},
     "output_type": "display_data"
    },
    {
     "data": {
      "text/html": [
       "<pre>Parsing completed. Parsed 342274 lines in 9.76675 secs.</pre>"
      ],
      "text/plain": [
       "Parsing completed. Parsed 342274 lines in 9.76675 secs."
      ]
     },
     "metadata": {},
     "output_type": "display_data"
    }
   ],
   "source": [
    "data=tc.SFrame.read_csv(\"crash1.csv\",column_type_hints=[str]*78+[int])\n",
    "data2=tc.SFrame.read_csv(\"nearcrash1.csv\",column_type_hints=[str]*78+[int])\n",
    "data=data.append(data2)"
   ]
  },
  {
   "cell_type": "code",
   "execution_count": 3,
   "id": "occasional-latin",
   "metadata": {},
   "outputs": [],
   "source": [
    "data.export_csv(\"CompleteData.csv\")"
   ]
  },
  {
   "cell_type": "code",
   "execution_count": 4,
   "id": "cloudy-dominant",
   "metadata": {},
   "outputs": [],
   "source": [
    "data=data.shuffle()\n",
    "data_train,data_test=tc.SFrame.random_split(data,0.7)\n",
    "data_test1, data_validation=tc.SFrame.random_split(data_test,0.5)"
   ]
  },
  {
   "cell_type": "code",
   "execution_count": 5,
   "id": "possible-smile",
   "metadata": {},
   "outputs": [
    {
     "ename": "ToolkitError",
     "evalue": "Input data does not contain the following columns: ['Targets']",
     "output_type": "error",
     "traceback": [
      "\u001b[0;31m---------------------------------------------------------------------------\u001b[0m",
      "\u001b[0;31mRuntimeError\u001b[0m                              Traceback (most recent call last)",
      "File \u001b[0;32m~/penv/lib/python3.8/site-packages/turicreate/data_structures/sframe.py:3407\u001b[0m, in \u001b[0;36mSFrame.select_columns\u001b[0;34m(self, column_names)\u001b[0m\n\u001b[1;32m   3405\u001b[0m \u001b[38;5;28;01mwith\u001b[39;00m cython_context():\n\u001b[1;32m   3406\u001b[0m     \u001b[38;5;28;01mreturn\u001b[39;00m SFrame(\n\u001b[0;32m-> 3407\u001b[0m         data\u001b[38;5;241m=\u001b[39m[], _proxy\u001b[38;5;241m=\u001b[39m\u001b[38;5;28;43mself\u001b[39;49m\u001b[38;5;241;43m.\u001b[39;49m\u001b[43m__proxy__\u001b[49m\u001b[38;5;241;43m.\u001b[39;49m\u001b[43mselect_columns\u001b[49m\u001b[43m(\u001b[49m\u001b[43mselected_columns\u001b[49m\u001b[43m)\u001b[49m\n\u001b[1;32m   3408\u001b[0m     )\n",
      "File \u001b[0;32mcy_sframe.pyx:193\u001b[0m, in \u001b[0;36mturicreate._cython.cy_sframe.UnitySFrameProxy.select_columns\u001b[0;34m()\u001b[0m\n",
      "File \u001b[0;32mcy_sframe.pyx:197\u001b[0m, in \u001b[0;36mturicreate._cython.cy_sframe.UnitySFrameProxy.select_columns\u001b[0;34m()\u001b[0m\n",
      "\u001b[0;31mRuntimeError\u001b[0m: Column Targets does not exist",
      "\nDuring handling of the above exception, another exception occurred:\n",
      "\u001b[0;31mRuntimeError\u001b[0m                              Traceback (most recent call last)",
      "File \u001b[0;32m~/penv/lib/python3.8/site-packages/turicreate/toolkits/_internal_utils.py:555\u001b[0m, in \u001b[0;36m_toolkits_select_columns\u001b[0;34m(dataset, columns)\u001b[0m\n\u001b[1;32m    554\u001b[0m \u001b[38;5;28;01mtry\u001b[39;00m:\n\u001b[0;32m--> 555\u001b[0m     \u001b[38;5;28;01mreturn\u001b[39;00m \u001b[43mdataset\u001b[49m\u001b[38;5;241;43m.\u001b[39;49m\u001b[43mselect_columns\u001b[49m\u001b[43m(\u001b[49m\u001b[43mcolumns\u001b[49m\u001b[43m)\u001b[49m\n\u001b[1;32m    556\u001b[0m \u001b[38;5;28;01mexcept\u001b[39;00m \u001b[38;5;167;01mRuntimeError\u001b[39;00m:\n",
      "File \u001b[0;32m~/penv/lib/python3.8/site-packages/turicreate/data_structures/sframe.py:3406\u001b[0m, in \u001b[0;36mSFrame.select_columns\u001b[0;34m(self, column_names)\u001b[0m\n\u001b[1;32m   3405\u001b[0m \u001b[38;5;28;01mwith\u001b[39;00m cython_context():\n\u001b[0;32m-> 3406\u001b[0m     \u001b[38;5;28;01mreturn\u001b[39;00m SFrame(\n\u001b[1;32m   3407\u001b[0m         data\u001b[38;5;241m=\u001b[39m[], _proxy\u001b[38;5;241m=\u001b[39m\u001b[38;5;28mself\u001b[39m\u001b[38;5;241m.\u001b[39m__proxy__\u001b[38;5;241m.\u001b[39mselect_columns(selected_columns)\n\u001b[1;32m   3408\u001b[0m     )\n",
      "File \u001b[0;32m~/penv/lib/python3.8/site-packages/turicreate/_cython/context.py:50\u001b[0m, in \u001b[0;36mdebug_trace.__exit__\u001b[0;34m(self, exc_type, exc_value, traceback)\u001b[0m\n\u001b[1;32m     48\u001b[0m \u001b[38;5;28;01mif\u001b[39;00m \u001b[38;5;129;01mnot\u001b[39;00m \u001b[38;5;28mself\u001b[39m\u001b[38;5;241m.\u001b[39mshow_cython_trace:\n\u001b[1;32m     49\u001b[0m     \u001b[38;5;66;03m# To hide cython trace, we re-raise from here\u001b[39;00m\n\u001b[0;32m---> 50\u001b[0m     \u001b[38;5;28;01mraise\u001b[39;00m exc_type(exc_value)\n\u001b[1;32m     51\u001b[0m \u001b[38;5;28;01melse\u001b[39;00m:\n\u001b[1;32m     52\u001b[0m     \u001b[38;5;66;03m# To show the full trace, we do nothing and let exception propagate\u001b[39;00m\n\u001b[1;32m     53\u001b[0m \n\u001b[1;32m     54\u001b[0m     \u001b[38;5;66;03m# In verbose mode we print the server log\u001b[39;00m\n",
      "\u001b[0;31mRuntimeError\u001b[0m: Column Targets does not exist",
      "\nDuring handling of the above exception, another exception occurred:\n",
      "\u001b[0;31mToolkitError\u001b[0m                              Traceback (most recent call last)",
      "Cell \u001b[0;32mIn[5], line 1\u001b[0m\n\u001b[0;32m----> 1\u001b[0m model\u001b[38;5;241m=\u001b[39m\u001b[43mtc\u001b[49m\u001b[38;5;241;43m.\u001b[39;49m\u001b[43mclassifier\u001b[49m\u001b[38;5;241;43m.\u001b[39;49m\u001b[43mcreate\u001b[49m\u001b[43m(\u001b[49m\u001b[43mdata\u001b[49m\u001b[43m,\u001b[49m\u001b[43mtarget\u001b[49m\u001b[38;5;241;43m=\u001b[39;49m\u001b[38;5;124;43m'\u001b[39;49m\u001b[38;5;124;43mTargets\u001b[39;49m\u001b[38;5;124;43m'\u001b[39;49m\u001b[43m,\u001b[49m\u001b[43mvalidation_set\u001b[49m\u001b[38;5;241;43m=\u001b[39;49m\u001b[43mdata_test1\u001b[49m\u001b[43m,\u001b[49m\u001b[43mverbose\u001b[49m\u001b[38;5;241;43m=\u001b[39;49m\u001b[38;5;28;43;01mTrue\u001b[39;49;00m\u001b[43m)\u001b[49m\n",
      "File \u001b[0;32m~/penv/lib/python3.8/site-packages/turicreate/toolkits/classifier/_classifier.py:100\u001b[0m, in \u001b[0;36mcreate\u001b[0;34m(dataset, target, features, validation_set, verbose)\u001b[0m\n\u001b[1;32m     13\u001b[0m \u001b[38;5;28;01mdef\u001b[39;00m \u001b[38;5;21mcreate\u001b[39m(dataset, target, features\u001b[38;5;241m=\u001b[39m\u001b[38;5;28;01mNone\u001b[39;00m, validation_set\u001b[38;5;241m=\u001b[39m\u001b[38;5;124m\"\u001b[39m\u001b[38;5;124mauto\u001b[39m\u001b[38;5;124m\"\u001b[39m, verbose\u001b[38;5;241m=\u001b[39m\u001b[38;5;28;01mTrue\u001b[39;00m):\n\u001b[1;32m     14\u001b[0m \u001b[38;5;250m    \u001b[39m\u001b[38;5;124;03m\"\"\"\u001b[39;00m\n\u001b[1;32m     15\u001b[0m \u001b[38;5;124;03m    Automatically create a suitable classifier model based on the provided\u001b[39;00m\n\u001b[1;32m     16\u001b[0m \u001b[38;5;124;03m    training data.\u001b[39;00m\n\u001b[0;32m   (...)\u001b[0m\n\u001b[1;32m     98\u001b[0m \n\u001b[1;32m     99\u001b[0m \u001b[38;5;124;03m    \"\"\"\u001b[39;00m\n\u001b[0;32m--> 100\u001b[0m     \u001b[38;5;28;01mreturn\u001b[39;00m \u001b[43m_sl\u001b[49m\u001b[38;5;241;43m.\u001b[39;49m\u001b[43mcreate_classification_with_model_selector\u001b[49m\u001b[43m(\u001b[49m\n\u001b[1;32m    101\u001b[0m \u001b[43m        \u001b[49m\u001b[43mdataset\u001b[49m\u001b[43m,\u001b[49m\n\u001b[1;32m    102\u001b[0m \u001b[43m        \u001b[49m\u001b[43mtarget\u001b[49m\u001b[43m,\u001b[49m\n\u001b[1;32m    103\u001b[0m \u001b[43m        \u001b[49m\u001b[43mmodel_selector\u001b[49m\u001b[38;5;241;43m=\u001b[39;49m\u001b[43m_turicreate\u001b[49m\u001b[38;5;241;43m.\u001b[39;49m\u001b[43mextensions\u001b[49m\u001b[38;5;241;43m.\u001b[39;49m\u001b[43m_supervised_learning\u001b[49m\u001b[38;5;241;43m.\u001b[39;49m\u001b[43m_classifier_available_models\u001b[49m\u001b[43m,\u001b[49m\n\u001b[1;32m    104\u001b[0m \u001b[43m        \u001b[49m\u001b[43mfeatures\u001b[49m\u001b[38;5;241;43m=\u001b[39;49m\u001b[43mfeatures\u001b[49m\u001b[43m,\u001b[49m\n\u001b[1;32m    105\u001b[0m \u001b[43m        \u001b[49m\u001b[43mvalidation_set\u001b[49m\u001b[38;5;241;43m=\u001b[39;49m\u001b[43mvalidation_set\u001b[49m\u001b[43m,\u001b[49m\n\u001b[1;32m    106\u001b[0m \u001b[43m        \u001b[49m\u001b[43mverbose\u001b[49m\u001b[38;5;241;43m=\u001b[39;49m\u001b[43mverbose\u001b[49m\u001b[43m,\u001b[49m\n\u001b[1;32m    107\u001b[0m \u001b[43m    \u001b[49m\u001b[43m)\u001b[49m\n",
      "File \u001b[0;32m~/penv/lib/python3.8/site-packages/turicreate/toolkits/_supervised_learning.py:375\u001b[0m, in \u001b[0;36mcreate_classification_with_model_selector\u001b[0;34m(dataset, target, model_selector, features, validation_set, verbose)\u001b[0m\n\u001b[1;32m    344\u001b[0m \u001b[38;5;250m\u001b[39m\u001b[38;5;124;03m\"\"\"\u001b[39;00m\n\u001b[1;32m    345\u001b[0m \u001b[38;5;124;03mCreate a :class:`~turicreate.toolkits.SupervisedLearningModel`,\u001b[39;00m\n\u001b[1;32m    346\u001b[0m \n\u001b[0;32m   (...)\u001b[0m\n\u001b[1;32m    371\u001b[0m \n\u001b[1;32m    372\u001b[0m \u001b[38;5;124;03m\"\"\"\u001b[39;00m\n\u001b[1;32m    374\u001b[0m \u001b[38;5;66;03m# Perform error-checking and trim inputs to specified columns\u001b[39;00m\n\u001b[0;32m--> 375\u001b[0m dataset, validation_set \u001b[38;5;241m=\u001b[39m \u001b[43m_validate_data\u001b[49m\u001b[43m(\u001b[49m\u001b[43mdataset\u001b[49m\u001b[43m,\u001b[49m\u001b[43m \u001b[49m\u001b[43mtarget\u001b[49m\u001b[43m,\u001b[49m\u001b[43m \u001b[49m\u001b[43mfeatures\u001b[49m\u001b[43m,\u001b[49m\u001b[43m \u001b[49m\u001b[43mvalidation_set\u001b[49m\u001b[43m)\u001b[49m\n\u001b[1;32m    377\u001b[0m \u001b[38;5;66;03m# Sample the data\u001b[39;00m\n\u001b[1;32m    378\u001b[0m features_sframe \u001b[38;5;241m=\u001b[39m dataset\n",
      "File \u001b[0;32m~/penv/lib/python3.8/site-packages/turicreate/toolkits/_internal_utils.py:723\u001b[0m, in \u001b[0;36m_validate_data\u001b[0;34m(dataset, target, features, validation_set)\u001b[0m\n\u001b[1;32m    720\u001b[0m     validation_set\u001b[38;5;241m.\u001b[39mhead()\u001b[38;5;241m.\u001b[39mappend(dataset\u001b[38;5;241m.\u001b[39mhead())\n\u001b[1;32m    722\u001b[0m     \u001b[38;5;66;03m# Reduce validation set to requested columns\u001b[39;00m\n\u001b[0;32m--> 723\u001b[0m     validation_set \u001b[38;5;241m=\u001b[39m \u001b[43m_toolkits_select_columns\u001b[49m\u001b[43m(\u001b[49m\u001b[43mvalidation_set\u001b[49m\u001b[43m,\u001b[49m\u001b[43m \u001b[49m\u001b[43mfeatures\u001b[49m\u001b[43m \u001b[49m\u001b[38;5;241;43m+\u001b[39;49m\u001b[43m \u001b[49m\u001b[43m[\u001b[49m\u001b[43mtarget\u001b[49m\u001b[43m]\u001b[49m\u001b[43m)\u001b[49m\n\u001b[1;32m    724\u001b[0m \u001b[38;5;28;01melif\u001b[39;00m \u001b[38;5;129;01mnot\u001b[39;00m validation_set \u001b[38;5;129;01mis\u001b[39;00m \u001b[38;5;28;01mNone\u001b[39;00m:\n\u001b[1;32m    725\u001b[0m     \u001b[38;5;28;01mraise\u001b[39;00m \u001b[38;5;167;01mTypeError\u001b[39;00m(\n\u001b[1;32m    726\u001b[0m         \u001b[38;5;124m\"\u001b[39m\u001b[38;5;124mvalidation_set must be either \u001b[39m\u001b[38;5;124m'\u001b[39m\u001b[38;5;124mauto\u001b[39m\u001b[38;5;124m'\u001b[39m\u001b[38;5;124m, None, or an \u001b[39m\u001b[38;5;124m\"\u001b[39m\n\u001b[1;32m    727\u001b[0m         \u001b[38;5;124m\"\u001b[39m\u001b[38;5;124mSFrame matching the training data.\u001b[39m\u001b[38;5;124m\"\u001b[39m\n\u001b[1;32m    728\u001b[0m     )\n",
      "File \u001b[0;32m~/penv/lib/python3.8/site-packages/turicreate/toolkits/_internal_utils.py:558\u001b[0m, in \u001b[0;36m_toolkits_select_columns\u001b[0;34m(dataset, columns)\u001b[0m\n\u001b[1;32m    556\u001b[0m \u001b[38;5;28;01mexcept\u001b[39;00m \u001b[38;5;167;01mRuntimeError\u001b[39;00m:\n\u001b[1;32m    557\u001b[0m     missing_features \u001b[38;5;241m=\u001b[39m \u001b[38;5;28mlist\u001b[39m(\u001b[38;5;28mset\u001b[39m(columns)\u001b[38;5;241m.\u001b[39mdifference(\u001b[38;5;28mset\u001b[39m(dataset\u001b[38;5;241m.\u001b[39mcolumn_names())))\n\u001b[0;32m--> 558\u001b[0m     \u001b[38;5;28;01mraise\u001b[39;00m ToolkitError(\n\u001b[1;32m    559\u001b[0m         \u001b[38;5;124m\"\u001b[39m\u001b[38;5;124mInput data does not contain the following columns: \u001b[39m\u001b[38;5;124m\"\u001b[39m\n\u001b[1;32m    560\u001b[0m         \u001b[38;5;241m+\u001b[39m \u001b[38;5;124m\"\u001b[39m\u001b[38;5;132;01m{}\u001b[39;00m\u001b[38;5;124m\"\u001b[39m\u001b[38;5;241m.\u001b[39mformat(missing_features)\n\u001b[1;32m    561\u001b[0m     )\n",
      "\u001b[0;31mToolkitError\u001b[0m: Input data does not contain the following columns: ['Targets']"
     ]
    }
   ],
   "source": [
    "model=tc.classifier.create(data,target='Targets',validation_set=data_test1,verbose=True)"
   ]
  },
  {
   "cell_type": "code",
   "execution_count": null,
   "id": "violent-spotlight",
   "metadata": {},
   "outputs": [],
   "source": [
    "result=model.predict(data_validation)\n",
    "right=0\n",
    "wrong=0\n",
    "for i in range(len(result)):\n",
    "    if result[i]==data_validation['Targets'][i]:\n",
    "        right+=1\n",
    "    else:\n",
    "        wrong+=1\n",
    "print(\"Right=\",right)\n",
    "print(\"Wrong=\",wrong)"
   ]
  },
  {
   "cell_type": "code",
   "execution_count": null,
   "id": "broke-gardening",
   "metadata": {},
   "outputs": [],
   "source": [
    "model.save(\"Model3\")"
   ]
  },
  {
   "cell_type": "code",
   "execution_count": null,
   "id": "taken-choir",
   "metadata": {},
   "outputs": [],
   "source": []
  }
 ],
 "metadata": {
  "kernelspec": {
   "display_name": "Python 3 (ipykernel)",
   "language": "python",
   "name": "python3"
  },
  "language_info": {
   "codemirror_mode": {
    "name": "ipython",
    "version": 3
   },
   "file_extension": ".py",
   "mimetype": "text/x-python",
   "name": "python",
   "nbconvert_exporter": "python",
   "pygments_lexer": "ipython3",
   "version": "3.8.10"
  }
 },
 "nbformat": 4,
 "nbformat_minor": 5
}
